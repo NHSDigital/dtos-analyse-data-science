{
 "cells": [
  {
   "cell_type": "markdown",
   "id": "0",
   "metadata": {},
   "source": [
    "# DSTA-0000--bsr-design-sprint--munge-bsis-test-data"
   ]
  },
  {
   "cell_type": "markdown",
   "id": "1",
   "metadata": {},
   "source": [
    "## Context\n",
    "\n",
    "Load four KC63 test datasets."
   ]
  },
  {
   "cell_type": "markdown",
   "id": "2",
   "metadata": {},
   "source": [
    "## Setup"
   ]
  },
  {
   "cell_type": "code",
   "execution_count": null,
   "id": "3",
   "metadata": {},
   "outputs": [],
   "source": [
    "%load_ext autoreload\n",
    "%load_ext jupyter_black"
   ]
  },
  {
   "cell_type": "code",
   "execution_count": null,
   "id": "4",
   "metadata": {},
   "outputs": [],
   "source": [
    "import logging\n",
    "from pathlib import Path\n",
    "\n",
    "import numpy as np\n",
    "import pandas as pd\n",
    "\n",
    "import _01_munge_bsis_test_data as utils\n",
    "\n",
    "utils.set_up_logging()\n",
    "logger = logging.getLogger(__name__)"
   ]
  },
  {
   "cell_type": "code",
   "execution_count": null,
   "id": "5",
   "metadata": {},
   "outputs": [],
   "source": [
    "DATA_FOLDER__INPUTS = Path(\"data/inputs\")\n",
    "DATA_FOLDER__OUTPUTS = Path(\"data/outputs\")\n",
    "DEFAULT_DATA_TYPE = str\n",
    "\n",
    "COL__KC63_OUTPUT_BY_RUN_ID = \"kc63_output_by_run_id\"\n",
    "COL__LINE_NUMBER = \"col_b\"\n",
    "\n",
    "LINE_NUMBERS__AGE = list(map(lambda x: str(x).zfill(3), range(1, 15))) + [\"999\"]\n",
    "LINE_NUMBERS__INVITED = [\"1\", \"2\"]\n",
    "LINE_NUMBERS__HIGH_RISK = [\"001 (col 1)\", \"001 (col 2)\"]\n",
    "\n",
    "LINE_NUMBERS_SETS = {\n",
    "    \"age\": LINE_NUMBERS__AGE,\n",
    "    \"invited\": LINE_NUMBERS__INVITED,\n",
    "    \"high-risk\": LINE_NUMBERS__HIGH_RISK,\n",
    "}"
   ]
  },
  {
   "cell_type": "markdown",
   "id": "6",
   "metadata": {},
   "source": [
    "## Load KC63 test datasets"
   ]
  },
  {
   "cell_type": "code",
   "execution_count": null,
   "id": "7",
   "metadata": {},
   "outputs": [],
   "source": [
    "raw__bso_gpp = pd.read_csv(DATA_FOLDER__INPUTS / \"bso_gpp_20231123.csv\", dtype=DEFAULT_DATA_TYPE)\n",
    "raw__bso = pd.read_csv(DATA_FOLDER__INPUTS / \"kc63_bso_20231123_FromBSS.csv\", dtype=DEFAULT_DATA_TYPE)\n",
    "raw__gpp = pd.read_csv(DATA_FOLDER__INPUTS / \"kc63_gpp_20231123_FromBSS.csv\", dtype=DEFAULT_DATA_TYPE)\n",
    "raw__utla = pd.read_csv(DATA_FOLDER__INPUTS / \"kc63_utla_20231123_FromBSS.csv\", dtype=DEFAULT_DATA_TYPE)"
   ]
  },
  {
   "cell_type": "markdown",
   "id": "8",
   "metadata": {},
   "source": [
    "## Munge"
   ]
  },
  {
   "cell_type": "markdown",
   "id": "9",
   "metadata": {},
   "source": [
    "### Perturb numeric values"
   ]
  },
  {
   "cell_type": "code",
   "execution_count": null,
   "id": "10",
   "metadata": {},
   "outputs": [],
   "source": [
    "%%time\n",
    "\n",
    "bso_gpp = raw__bso_gpp\n",
    "\n",
    "\n",
    "def perturb_dataframe_numeric_values_where_possible(df):\n",
    "    cols__perturbation = df.columns.drop([COL__KC63_OUTPUT_BY_RUN_ID, COL__LINE_NUMBER])\n",
    "    df_out = df.copy()\n",
    "    df_out[cols__perturbation] = df_out[cols__perturbation].map(\n",
    "        lambda x: utils.perturb_numeric_values_where_possible(\n",
    "            x, apply_random_number_below_threshold=10, above_threshold_smear_factor=0.5\n",
    "        )\n",
    "    )\n",
    "    return df_out\n",
    "\n",
    "\n",
    "bso = perturb_dataframe_numeric_values_where_possible(raw__bso)\n",
    "gpp = perturb_dataframe_numeric_values_where_possible(raw__gpp)\n",
    "utla = perturb_dataframe_numeric_values_where_possible(raw__utla)"
   ]
  },
  {
   "cell_type": "code",
   "execution_count": null,
   "id": "11",
   "metadata": {},
   "outputs": [],
   "source": [
    "top_n = 3\n",
    "display(raw__bso.head(top_n))\n",
    "display(bso.head(top_n))"
   ]
  },
  {
   "cell_type": "code",
   "execution_count": null,
   "id": "12",
   "metadata": {},
   "outputs": [],
   "source": [
    "utils.xcheck__perturbation_worked_as_expected(bso, raw__bso)\n",
    "utils.xcheck__perturbation_worked_as_expected(gpp, raw__gpp)\n",
    "utils.xcheck__perturbation_worked_as_expected(utla, raw__utla)"
   ]
  },
  {
   "cell_type": "markdown",
   "id": "13",
   "metadata": {},
   "source": [
    "### Split out table sections"
   ]
  },
  {
   "cell_type": "code",
   "execution_count": null,
   "id": "14",
   "metadata": {},
   "outputs": [],
   "source": [
    "output_filename = f\"2023-11-23--bso-gpp.csv\"\n",
    "bso_gpp.to_csv(DATA_FOLDER__OUTPUTS / output_filename, index=False)"
   ]
  },
  {
   "cell_type": "code",
   "execution_count": null,
   "id": "15",
   "metadata": {},
   "outputs": [],
   "source": [
    "bso.name = \"bso\"\n",
    "gpp.name = \"gpp\"\n",
    "utla.name = \"utla\"\n",
    "\n",
    "for df in [bso, gpp, utla]:\n",
    "    for line_number_set_name, line_number_set in LINE_NUMBERS_SETS.items():\n",
    "        filter_ = df[COL__LINE_NUMBER].isin(line_number_set)\n",
    "        df_out = df.loc[filter_]\n",
    "        output_filename = f\"2023-11-23--{df.name}-level--{line_number_set_name}--perturbed-values.csv\"\n",
    "        df_out.to_csv(DATA_FOLDER__OUTPUTS / output_filename, index=False)"
   ]
  }
 ],
 "metadata": {
  "kernelspec": {
   "display_name": ".venv (3.12.10)",
   "language": "python",
   "name": "python3"
  },
  "language_info": {
   "codemirror_mode": {
    "name": "ipython",
    "version": 3
   },
   "file_extension": ".py",
   "mimetype": "text/x-python",
   "name": "python",
   "nbconvert_exporter": "python",
   "pygments_lexer": "ipython3",
   "version": "3.12.10"
  }
 },
 "nbformat": 4,
 "nbformat_minor": 5
}
