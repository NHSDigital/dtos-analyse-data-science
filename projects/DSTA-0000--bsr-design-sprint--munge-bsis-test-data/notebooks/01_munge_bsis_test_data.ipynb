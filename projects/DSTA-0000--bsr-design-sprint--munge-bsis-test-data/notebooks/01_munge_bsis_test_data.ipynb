{
 "cells": [
  {
   "cell_type": "markdown",
   "id": "0",
   "metadata": {},
   "source": [
    "# DSTA-0000--bsr-design-sprint--munge-bsis-test-data"
   ]
  },
  {
   "cell_type": "markdown",
   "id": "1",
   "metadata": {},
   "source": [
    "## Context\n",
    "\n",
    "This work is part of the Breast Screening Reporting team's July 2025 KC63 design sprint.\n",
    "This notebook adds some noise to BSIS test data before we send it to FDP.\n",
    "(Test data comes from the BSIS Confluence space.)\n",
    "\n",
    "We load four datasets from the `notebooks/data/inputs` folder, modify three of them (the ones with numeric values), and write outputs to `notebooks/data/outputs`.\n",
    "\n",
    "Datasets\n",
    "1. `bso_gpp_20231123.csv`\n",
    "   1. BSO to GPP mapping.\n",
    "   2. This file is passed through without modification. We just change the file name.\n",
    "2. `kc63_bso_20231123_FromBSS.csv`, `kc63_gpp_20231123_FromBSS.csv`, `kc63_utla_20231123_FromBSS.csv` \n",
    "   1. These three files are the same line-item data that has been grouped in three different ways.\n",
    "   2. For each we modify the numeric values as explained in `perturb_numeric_values_where_possible`.\n",
    "      1. The aim is to add noise to test data numbers before we send data to FDP.\n",
    "      2. This is precautionary since no PII is in this data."
   ]
  },
  {
   "cell_type": "markdown",
   "id": "2",
   "metadata": {},
   "source": [
    "## Setup"
   ]
  },
  {
   "cell_type": "code",
   "execution_count": null,
   "id": "3",
   "metadata": {},
   "outputs": [],
   "source": [
    "%load_ext autoreload\n",
    "%load_ext jupyter_black"
   ]
  },
  {
   "cell_type": "code",
   "execution_count": null,
   "id": "4",
   "metadata": {},
   "outputs": [],
   "source": [
    "import csv\n",
    "import logging\n",
    "from pathlib import Path\n",
    "\n",
    "import numpy as np\n",
    "import pandas as pd\n",
    "\n",
    "import _01_munge_bsis_test_data as utils\n",
    "\n",
    "utils.set_up_logging()\n",
    "logger = logging.getLogger(__name__)"
   ]
  },
  {
   "cell_type": "code",
   "execution_count": null,
   "id": "5",
   "metadata": {},
   "outputs": [],
   "source": [
    "DATA_FOLDER__INPUTS = Path(\"data/inputs\")\n",
    "DATA_FOLDER__OUTPUTS = Path(\"data/outputs\")\n",
    "DEFAULT_DATA_TYPE = str\n",
    "\n",
    "COL__KC63_OUTPUT_BY_RUN_ID = \"kc63_output_by_run_id\"\n",
    "COL__LINE_NUMBER = \"col_b\"\n",
    "COL__AGE_BUCKET_LABEL = \"col_c\""
   ]
  },
  {
   "cell_type": "markdown",
   "id": "6",
   "metadata": {},
   "source": [
    "## Load KC63 test datasets"
   ]
  },
  {
   "cell_type": "code",
   "execution_count": null,
   "id": "7",
   "metadata": {},
   "outputs": [],
   "source": [
    "raw__bso_gpp = pd.read_csv(DATA_FOLDER__INPUTS / \"bso_gpp_20231123.csv\", dtype=DEFAULT_DATA_TYPE)\n",
    "raw__bso = pd.read_csv(DATA_FOLDER__INPUTS / \"kc63_bso_20231123_FromBSS.csv\", dtype=DEFAULT_DATA_TYPE)\n",
    "raw__gpp = pd.read_csv(DATA_FOLDER__INPUTS / \"kc63_gpp_20231123_FromBSS.csv\", dtype=DEFAULT_DATA_TYPE)\n",
    "raw__utla = pd.read_csv(DATA_FOLDER__INPUTS / \"kc63_utla_20231123_FromBSS.csv\", dtype=DEFAULT_DATA_TYPE)"
   ]
  },
  {
   "cell_type": "markdown",
   "id": "8",
   "metadata": {},
   "source": [
    "## Munge"
   ]
  },
  {
   "cell_type": "markdown",
   "id": "9",
   "metadata": {},
   "source": [
    "### Perturb numeric values"
   ]
  },
  {
   "cell_type": "code",
   "execution_count": null,
   "id": "10",
   "metadata": {},
   "outputs": [],
   "source": [
    "%%time\n",
    "\n",
    "bso_gpp = raw__bso_gpp\n",
    "\n",
    "\n",
    "def perturb_dataframe_numeric_values_where_possible(df):\n",
    "    cols__perturbation = df.columns.drop([COL__KC63_OUTPUT_BY_RUN_ID, COL__LINE_NUMBER, COL__AGE_BUCKET_LABEL])\n",
    "    df_out = df.copy()\n",
    "    df_out[cols__perturbation] = df_out[cols__perturbation].map(\n",
    "        lambda x: utils.perturb_numeric_values_where_possible(\n",
    "            x, apply_random_number_below_threshold=10, above_threshold_smear_factor=0.5\n",
    "        )\n",
    "    )\n",
    "    return df_out\n",
    "\n",
    "\n",
    "bso = perturb_dataframe_numeric_values_where_possible(raw__bso)\n",
    "gpp = perturb_dataframe_numeric_values_where_possible(raw__gpp)\n",
    "utla = perturb_dataframe_numeric_values_where_possible(raw__utla)"
   ]
  },
  {
   "cell_type": "code",
   "execution_count": null,
   "id": "11",
   "metadata": {},
   "outputs": [],
   "source": [
    "top_n = 3\n",
    "display(raw__bso.head(top_n))\n",
    "display(bso.head(top_n))"
   ]
  },
  {
   "cell_type": "code",
   "execution_count": null,
   "id": "12",
   "metadata": {},
   "outputs": [],
   "source": [
    "utils.xcheck__perturbation_worked_as_expected(bso, raw__bso)\n",
    "utils.xcheck__perturbation_worked_as_expected(gpp, raw__gpp)\n",
    "utils.xcheck__perturbation_worked_as_expected(utla, raw__utla)"
   ]
  },
  {
   "cell_type": "markdown",
   "id": "13",
   "metadata": {},
   "source": [
    "### Export"
   ]
  },
  {
   "cell_type": "code",
   "execution_count": null,
   "id": "14",
   "metadata": {},
   "outputs": [],
   "source": [
    "bso_gpp.to_csv(DATA_FOLDER__OUTPUTS / f\"2023-11-23--bso--gpp.csv\", index=False, quoting=csv.QUOTE_NONNUMERIC)\n",
    "utils.exporter(bso, DATA_FOLDER__OUTPUTS, f\"2023-11-23--bso--perturbed.csv\")\n",
    "utils.exporter(gpp, DATA_FOLDER__OUTPUTS, f\"2023-11-23--gpp--perturbed.csv\")\n",
    "utils.exporter(utla, DATA_FOLDER__OUTPUTS, f\"2023-11-23--utla--perturbed.csv\")"
   ]
  },
  {
   "cell_type": "markdown",
   "id": "15",
   "metadata": {},
   "source": [
    "### Generate and Export Data Representing Previous Years"
   ]
  },
  {
   "cell_type": "code",
   "execution_count": null,
   "id": "16",
   "metadata": {},
   "outputs": [],
   "source": [
    "# Specify the list of dates to generate output for\n",
    "dates = [\n",
    "    \"2022-11-23\",\n",
    "    \"2021-11-23\",\n",
    "    \"2020-11-23\",\n",
    "    \"2019-11-23\",\n",
    "    \"2018-11-23\"\n",
    "]"
   ]
  },
  {
   "cell_type": "code",
   "execution_count": null,
   "id": "17",
   "metadata": {},
   "outputs": [],
   "source": [
    "for date in dates:\n",
    "      bso_perturbed = perturb_dataframe_numeric_values_where_possible(raw__bso)\n",
    "      gpp_perturbed = perturb_dataframe_numeric_values_where_possible(raw__gpp)\n",
    "      utla_perturbed = perturb_dataframe_numeric_values_where_possible(raw__utla)\n",
    "\n",
    "      bso_gpp.to_csv(DATA_FOLDER__OUTPUTS / f\"{date}--bso--gpp.csv\", index=False, quoting=csv.QUOTE_NONNUMERIC)\n",
    "      utils.exporter(bso_perturbed, DATA_FOLDER__OUTPUTS, f\"{date}--bso--perturbed.csv\")\n",
    "      utils.exporter(gpp_perturbed, DATA_FOLDER__OUTPUTS, f\"{date}--gpp--perturbed.csv\")\n",
    "      utils.exporter(utla_perturbed, DATA_FOLDER__OUTPUTS, f\"{date}--utla--perturbed.csv\")"
   ]
  }
 ],
 "metadata": {
  "kernelspec": {
   "display_name": ".venv (3.12.10)",
   "language": "python",
   "name": "python3"
  },
  "language_info": {
   "codemirror_mode": {
    "name": "ipython",
    "version": 3
   },
   "file_extension": ".py",
   "mimetype": "text/x-python",
   "name": "python",
   "nbconvert_exporter": "python",
   "pygments_lexer": "ipython3",
   "version": "3.12.10"
  }
 },
 "nbformat": 4,
 "nbformat_minor": 5
}
