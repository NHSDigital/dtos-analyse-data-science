{
 "cells": [
  {
   "cell_type": "markdown",
   "id": "0",
   "metadata": {},
   "source": [
    "# DSTA-0000--bsr-design-sprint--munge-bsis-test-data"
   ]
  },
  {
   "cell_type": "markdown",
   "id": "1",
   "metadata": {},
   "source": [
    "## Context\n",
    "\n",
    "Load four KC63 test datasets."
   ]
  },
  {
   "cell_type": "markdown",
   "id": "2",
   "metadata": {},
   "source": [
    "## Setup"
   ]
  },
  {
   "cell_type": "code",
   "execution_count": null,
   "id": "3",
   "metadata": {},
   "outputs": [],
   "source": [
    "%load_ext autoreload\n",
    "%load_ext jupyter_black"
   ]
  },
  {
   "cell_type": "code",
   "execution_count": null,
   "id": "4",
   "metadata": {},
   "outputs": [],
   "source": [
    "import logging\n",
    "from pathlib import Path\n",
    "\n",
    "import numpy as np\n",
    "import pandas as pd\n",
    "\n",
    "import _01_munge_bsis_test_data as utils\n",
    "\n",
    "utils.set_up_logging()\n",
    "logger = logging.getLogger(__name__)"
   ]
  },
  {
   "cell_type": "code",
   "execution_count": null,
   "id": "5",
   "metadata": {},
   "outputs": [],
   "source": [
    "DATA_FOLDER = Path(\"data\")\n",
    "DEFAULT_DATA_TYPE = str"
   ]
  },
  {
   "cell_type": "markdown",
   "id": "6",
   "metadata": {},
   "source": [
    "## Load KC63 test datasets"
   ]
  },
  {
   "cell_type": "code",
   "execution_count": null,
   "id": "7",
   "metadata": {},
   "outputs": [],
   "source": [
    "raw__bso_gpp = pd.read_csv(DATA_FOLDER / \"bso_gpp_20231123.csv\", dtype=DEFAULT_DATA_TYPE)\n",
    "raw__bso = pd.read_csv(DATA_FOLDER / \"kc63_bso_20231123_FromBSS.csv\", dtype=DEFAULT_DATA_TYPE)\n",
    "raw__gpp = pd.read_csv(DATA_FOLDER / \"kc63_gpp_20231123_FromBSS.csv\", dtype=DEFAULT_DATA_TYPE)\n",
    "raw__utla = pd.read_csv(DATA_FOLDER / \"kc63_utla_20231123_FromBSS.csv\", dtype=DEFAULT_DATA_TYPE)"
   ]
  },
  {
   "cell_type": "markdown",
   "id": "8",
   "metadata": {},
   "source": [
    "## Munge"
   ]
  },
  {
   "cell_type": "markdown",
   "id": "9",
   "metadata": {},
   "source": [
    "### Perturb numeric values"
   ]
  },
  {
   "cell_type": "code",
   "execution_count": null,
   "id": "10",
   "metadata": {},
   "outputs": [],
   "source": [
    "%%time\n",
    "bso_gpp = raw__bso_gpp\n",
    "bso = raw__bso.map(\n",
    "    lambda x: utils.perturb_numeric_values_where_possible(\n",
    "        x, apply_random_number_below_threshold=10, above_threshold_smear_factor=0.5\n",
    "    )\n",
    ")\n",
    "gpp = raw__gpp.map(\n",
    "    lambda x: utils.perturb_numeric_values_where_possible(\n",
    "        x, apply_random_number_below_threshold=10, above_threshold_smear_factor=0.5\n",
    "    )\n",
    ")\n",
    "utla = raw__utla.map(\n",
    "    lambda x: utils.perturb_numeric_values_where_possible(\n",
    "        x, apply_random_number_below_threshold=10, above_threshold_smear_factor=0.5\n",
    "    )\n",
    ")"
   ]
  },
  {
   "cell_type": "code",
   "execution_count": null,
   "id": "11",
   "metadata": {},
   "outputs": [],
   "source": [
    "top_n = 3\n",
    "display(raw__bso.head(top_n))\n",
    "display(bso.head(top_n))"
   ]
  },
  {
   "cell_type": "code",
   "execution_count": null,
   "id": "12",
   "metadata": {},
   "outputs": [],
   "source": [
    "utils.xcheck__perturbation_worked_as_expected(bso, raw__bso)\n",
    "utils.xcheck__perturbation_worked_as_expected(gpp, raw__gpp)\n",
    "utils.xcheck__perturbation_worked_as_expected(utla, raw__utla)"
   ]
  },
  {
   "cell_type": "markdown",
   "id": "13",
   "metadata": {},
   "source": [
    "### Split out table sections"
   ]
  },
  {
   "cell_type": "code",
   "execution_count": null,
   "id": "14",
   "metadata": {},
   "outputs": [],
   "source": [
    "# TODO "
   ]
  }
 ],
 "metadata": {
  "kernelspec": {
   "display_name": ".venv (3.12.10)",
   "language": "python",
   "name": "python3"
  },
  "language_info": {
   "codemirror_mode": {
    "name": "ipython",
    "version": 3
   },
   "file_extension": ".py",
   "mimetype": "text/x-python",
   "name": "python",
   "nbconvert_exporter": "python",
   "pygments_lexer": "ipython3",
   "version": "3.12.10"
  }
 },
 "nbformat": 4,
 "nbformat_minor": 5
}
