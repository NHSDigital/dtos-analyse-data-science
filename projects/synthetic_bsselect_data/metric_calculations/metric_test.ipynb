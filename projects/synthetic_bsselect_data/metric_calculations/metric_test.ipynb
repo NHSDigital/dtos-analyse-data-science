{
  "cells": [
    {
      "cell_type": "code",
      "execution_count": 1,
      "id": "db5f6f5e",
      "metadata": {},
      "outputs": [],
      "source": [
        "import pandas as pd\n",
        "from enrich_tables import add_uptake_columns, add_round_length_columns\n",
        "from calculate_metrics import calculate_uptake, calculate_round_length"
      ]
    },
    {
      "cell_type": "code",
      "execution_count": 2,
      "id": "17b6f9ac",
      "metadata": {},
      "outputs": [],
      "source": [
        "combined_df = pd.read_csv('../output_data/bs-select_combined_20250605.csv')"
      ]
    },
    {
      "cell_type": "markdown",
      "id": "e66297c9",
      "metadata": {},
      "source": [
        "Add columns"
      ]
    },
    {
      "cell_type": "code",
      "execution_count": 3,
      "id": "61c8cc16",
      "metadata": {},
      "outputs": [],
      "source": [
        "combined_df = add_uptake_columns(combined_df)\n",
        "combined_df = add_round_length_columns(combined_df)"
      ]
    },
    {
      "cell_type": "code",
      "execution_count": 4,
      "id": "eec87e73",
      "metadata": {},
      "outputs": [
        {
          "data": {
            "text/html": [
              "<div>\n",
              "<style scoped>\n",
              "    .dataframe tbody tr th:only-of-type {\n",
              "        vertical-align: middle;\n",
              "    }\n",
              "\n",
              "    .dataframe tbody tr th {\n",
              "        vertical-align: top;\n",
              "    }\n",
              "\n",
              "    .dataframe thead th {\n",
              "        text-align: right;\n",
              "    }\n",
              "</style>\n",
              "<table border=\"1\" class=\"dataframe\">\n",
              "  <thead>\n",
              "    <tr style=\"text-align: right;\">\n",
              "      <th></th>\n",
              "      <th>nhs_number</th>\n",
              "      <th>date_of_foa</th>\n",
              "      <th>date_of_as</th>\n",
              "      <th>prior_date_of_foa</th>\n",
              "      <th>prior_date_of_as</th>\n",
              "      <th>uptake_six_mth_threshold</th>\n",
              "      <th>round_length_three_yr_threshold</th>\n",
              "    </tr>\n",
              "  </thead>\n",
              "  <tbody>\n",
              "    <tr>\n",
              "      <th>99999</th>\n",
              "      <td>9000043520</td>\n",
              "      <td>2025-02-23</td>\n",
              "      <td>2025-05-23</td>\n",
              "      <td>NaT</td>\n",
              "      <td>NaT</td>\n",
              "      <td>True</td>\n",
              "      <td>&lt;NA&gt;</td>\n",
              "    </tr>\n",
              "    <tr>\n",
              "      <th>99996</th>\n",
              "      <td>9000043519</td>\n",
              "      <td>2024-04-11</td>\n",
              "      <td>2024-10-11</td>\n",
              "      <td>2021-05-11</td>\n",
              "      <td>2021-11-11</td>\n",
              "      <td>True</td>\n",
              "      <td>True</td>\n",
              "    </tr>\n",
              "    <tr>\n",
              "      <th>99997</th>\n",
              "      <td>9000043519</td>\n",
              "      <td>2021-05-11</td>\n",
              "      <td>2021-11-11</td>\n",
              "      <td>NaT</td>\n",
              "      <td>NaT</td>\n",
              "      <td>False</td>\n",
              "      <td>&lt;NA&gt;</td>\n",
              "    </tr>\n",
              "    <tr>\n",
              "      <th>99998</th>\n",
              "      <td>9000043519</td>\n",
              "      <td>NaT</td>\n",
              "      <td>NaT</td>\n",
              "      <td>NaT</td>\n",
              "      <td>NaT</td>\n",
              "      <td>&lt;NA&gt;</td>\n",
              "      <td>&lt;NA&gt;</td>\n",
              "    </tr>\n",
              "    <tr>\n",
              "      <th>99994</th>\n",
              "      <td>9000043518</td>\n",
              "      <td>2024-07-04</td>\n",
              "      <td>NaT</td>\n",
              "      <td>2021-08-04</td>\n",
              "      <td>2022-02-04</td>\n",
              "      <td>False</td>\n",
              "      <td>True</td>\n",
              "    </tr>\n",
              "    <tr>\n",
              "      <th>...</th>\n",
              "      <td>...</td>\n",
              "      <td>...</td>\n",
              "      <td>...</td>\n",
              "      <td>...</td>\n",
              "      <td>...</td>\n",
              "      <td>...</td>\n",
              "      <td>...</td>\n",
              "    </tr>\n",
              "    <tr>\n",
              "      <th>4</th>\n",
              "      <td>9000000002</td>\n",
              "      <td>2024-09-04</td>\n",
              "      <td>NaT</td>\n",
              "      <td>NaT</td>\n",
              "      <td>NaT</td>\n",
              "      <td>False</td>\n",
              "      <td>&lt;NA&gt;</td>\n",
              "    </tr>\n",
              "    <tr>\n",
              "      <th>3</th>\n",
              "      <td>9000000001</td>\n",
              "      <td>2024-05-31</td>\n",
              "      <td>2024-08-31</td>\n",
              "      <td>NaT</td>\n",
              "      <td>NaT</td>\n",
              "      <td>True</td>\n",
              "      <td>&lt;NA&gt;</td>\n",
              "    </tr>\n",
              "    <tr>\n",
              "      <th>0</th>\n",
              "      <td>9000000000</td>\n",
              "      <td>2024-11-01</td>\n",
              "      <td>2025-04-01</td>\n",
              "      <td>2021-12-01</td>\n",
              "      <td>2022-02-01</td>\n",
              "      <td>True</td>\n",
              "      <td>True</td>\n",
              "    </tr>\n",
              "    <tr>\n",
              "      <th>1</th>\n",
              "      <td>9000000000</td>\n",
              "      <td>2021-12-01</td>\n",
              "      <td>2022-02-01</td>\n",
              "      <td>2019-01-01</td>\n",
              "      <td>2019-06-01</td>\n",
              "      <td>True</td>\n",
              "      <td>True</td>\n",
              "    </tr>\n",
              "    <tr>\n",
              "      <th>2</th>\n",
              "      <td>9000000000</td>\n",
              "      <td>2019-01-01</td>\n",
              "      <td>2019-06-01</td>\n",
              "      <td>NaT</td>\n",
              "      <td>NaT</td>\n",
              "      <td>True</td>\n",
              "      <td>&lt;NA&gt;</td>\n",
              "    </tr>\n",
              "  </tbody>\n",
              "</table>\n",
              "<p>100000 rows × 7 columns</p>\n",
              "</div>"
            ],
            "text/plain": [
              "       nhs_number date_of_foa date_of_as prior_date_of_foa prior_date_of_as  \\\n",
              "99999  9000043520  2025-02-23 2025-05-23               NaT              NaT   \n",
              "99996  9000043519  2024-04-11 2024-10-11        2021-05-11       2021-11-11   \n",
              "99997  9000043519  2021-05-11 2021-11-11               NaT              NaT   \n",
              "99998  9000043519         NaT        NaT               NaT              NaT   \n",
              "99994  9000043518  2024-07-04        NaT        2021-08-04       2022-02-04   \n",
              "...           ...         ...        ...               ...              ...   \n",
              "4      9000000002  2024-09-04        NaT               NaT              NaT   \n",
              "3      9000000001  2024-05-31 2024-08-31               NaT              NaT   \n",
              "0      9000000000  2024-11-01 2025-04-01        2021-12-01       2022-02-01   \n",
              "1      9000000000  2021-12-01 2022-02-01        2019-01-01       2019-06-01   \n",
              "2      9000000000  2019-01-01 2019-06-01               NaT              NaT   \n",
              "\n",
              "       uptake_six_mth_threshold  round_length_three_yr_threshold  \n",
              "99999                      True                             <NA>  \n",
              "99996                      True                             True  \n",
              "99997                     False                             <NA>  \n",
              "99998                      <NA>                             <NA>  \n",
              "99994                     False                             True  \n",
              "...                         ...                              ...  \n",
              "4                         False                             <NA>  \n",
              "3                          True                             <NA>  \n",
              "0                          True                             True  \n",
              "1                          True                             True  \n",
              "2                          True                             <NA>  \n",
              "\n",
              "[100000 rows x 7 columns]"
            ]
          },
          "execution_count": 4,
          "metadata": {},
          "output_type": "execute_result"
        }
      ],
      "source": [
        "combined_df[['nhs_number', 'date_of_foa', 'date_of_as', 'prior_date_of_foa', 'prior_date_of_as', 'uptake_six_mth_threshold', 'round_length_three_yr_threshold']]"
      ]
    },
    {
      "cell_type": "markdown",
      "id": "e8b9b9d5",
      "metadata": {},
      "source": [
        "Calculate metrics"
      ]
    },
    {
      "cell_type": "code",
      "execution_count": 5,
      "id": "ee1cdfd1",
      "metadata": {},
      "outputs": [],
      "source": [
        "uptakes = calculate_uptake(combined_df, 'bso_organisation_code', '2025-03-31')\n",
        "round_lengths = calculate_round_length(combined_df, 'bso_organisation_code', '2025-03-31')"
      ]
    },
    {
      "cell_type": "code",
      "execution_count": 6,
      "id": "1115ba5c",
      "metadata": {},
      "outputs": [
        {
          "data": {
            "text/plain": [
              "bso_organisation_code\n",
              "AGA    78.290598\n",
              "ANE    78.373383\n",
              "ANT         78.0\n",
              "AWC     78.33002\n",
              "BHL    77.757009\n",
              "         ...    \n",
              "PBO    77.881041\n",
              "PLE    80.148423\n",
              "PLN    77.988615\n",
              "PMA    78.596491\n",
              "PWI    77.413479\n",
              "Name: uptake_six_mth_threshold, Length: 76, dtype: Float64"
            ]
          },
          "execution_count": 6,
          "metadata": {},
          "output_type": "execute_result"
        }
      ],
      "source": [
        "uptakes"
      ]
    },
    {
      "cell_type": "code",
      "execution_count": 7,
      "id": "12955f05",
      "metadata": {},
      "outputs": [
        {
          "data": {
            "text/plain": [
              "bso_organisation_code\n",
              "AGA    92.025862\n",
              "ANE    93.647059\n",
              "ANT    93.984962\n",
              "AWC    93.120393\n",
              "BHL    93.457944\n",
              "         ...    \n",
              "PBO    93.473193\n",
              "PLE    95.412844\n",
              "PLN    94.814815\n",
              "PMA     95.03386\n",
              "PWI    92.643678\n",
              "Name: round_length_three_yr_threshold, Length: 76, dtype: Float64"
            ]
          },
          "execution_count": 7,
          "metadata": {},
          "output_type": "execute_result"
        }
      ],
      "source": [
        "round_lengths"
      ]
    }
  ],
  "metadata": {
    "kernelspec": {
      "display_name": "Python (synthetic-bsselect-data-py3.13)",
      "language": "python",
      "name": "synthetic-bsselect-data-py3.13"
    },
    "language_info": {
      "codemirror_mode": {
        "name": "ipython",
        "version": 3
      },
      "file_extension": ".py",
      "mimetype": "text/x-python",
      "name": "python",
      "nbconvert_exporter": "python",
      "pygments_lexer": "ipython3",
      "version": "3.13.3"
    }
  },
  "nbformat": 4,
  "nbformat_minor": 5
}
