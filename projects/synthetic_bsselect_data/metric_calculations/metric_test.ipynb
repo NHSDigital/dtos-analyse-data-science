{
 "cells": [
  {
   "cell_type": "code",
   "execution_count": null,
   "id": "0",
   "metadata": {},
   "outputs": [],
   "source": [
    "import pandas as pd\n",
    "from enrich_tables import add_uptake_columns, add_round_length_columns\n",
    "from calculate_metrics import calculate_uptake, calculate_round_length"
   ]
  },
  {
   "cell_type": "code",
   "execution_count": null,
   "id": "1",
   "metadata": {},
   "outputs": [],
   "source": [
    "combined_df = pd.read_csv('../output_data/bs-select_combined_20250605.csv')"
   ]
  },
  {
   "cell_type": "markdown",
   "id": "2",
   "metadata": {},
   "source": [
    "Add columns"
   ]
  },
  {
   "cell_type": "code",
   "execution_count": null,
   "id": "3",
   "metadata": {},
   "outputs": [],
   "source": [
    "combined_df = add_uptake_columns(combined_df)\n",
    "combined_df = add_round_length_columns(combined_df)"
   ]
  },
  {
   "cell_type": "code",
   "execution_count": null,
   "id": "4",
   "metadata": {},
   "outputs": [],
   "source": [
    "combined_df[['nhs_number', 'date_of_foa', 'date_of_as', 'prior_date_of_foa', 'prior_date_of_as', 'uptake_six_mth_threshold', 'round_length_three_yr_threshold']]"
   ]
  },
  {
   "cell_type": "markdown",
   "id": "5",
   "metadata": {},
   "source": [
    "Calculate metrics"
   ]
  },
  {
   "cell_type": "code",
   "execution_count": null,
   "id": "6",
   "metadata": {},
   "outputs": [],
   "source": [
    "uptakes = calculate_uptake(combined_df, 'bso_organisation_code', '2025-03-31')\n",
    "round_lengths = calculate_round_length(combined_df, 'bso_organisation_code', '2025-03-31')"
   ]
  },
  {
   "cell_type": "code",
   "execution_count": null,
   "id": "7",
   "metadata": {},
   "outputs": [],
   "source": [
    "uptakes"
   ]
  },
  {
   "cell_type": "code",
   "execution_count": null,
   "id": "8",
   "metadata": {},
   "outputs": [],
   "source": [
    "round_lengths"
   ]
  }
 ],
 "metadata": {
  "kernelspec": {
   "display_name": "Python (synthetic-bsselect-data-py3.13)",
   "language": "python",
   "name": "synthetic-bsselect-data-py3.13"
  },
  "language_info": {
   "codemirror_mode": {
    "name": "ipython",
    "version": 3
   },
   "file_extension": ".py",
   "mimetype": "text/x-python",
   "name": "python",
   "nbconvert_exporter": "python",
   "pygments_lexer": "ipython3",
   "version": "3.13.3"
  }
 },
 "nbformat": 4,
 "nbformat_minor": 5
}
